{
 "cells": [
  {
   "cell_type": "code",
   "execution_count": 4,
   "id": "76ecc702-c177-48f7-8501-fa946a60867c",
   "metadata": {},
   "outputs": [
    {
     "name": "stdout",
     "output_type": "stream",
     "text": [
      "The autoreload extension is already loaded. To reload it, use:\n",
      "  %reload_ext autoreload\n"
     ]
    }
   ],
   "source": [
    "%load_ext autoreload"
   ]
  },
  {
   "cell_type": "code",
   "execution_count": 5,
   "id": "a7986ca5-da98-4a0b-9af4-74a6dc39ebea",
   "metadata": {},
   "outputs": [],
   "source": [
    "%autoreload 2"
   ]
  },
  {
   "cell_type": "code",
   "execution_count": 6,
   "id": "eae9cf6a-2ba2-4299-af93-ce83fb715430",
   "metadata": {},
   "outputs": [
    {
     "ename": "SyntaxError",
     "evalue": "unterminated string literal (detected at line 198) (pid_tuner_main.py, line 198)",
     "output_type": "error",
     "traceback": [
      "\u001b[1;36m  File \u001b[1;32mC:\\Jupyter\\pid_project\\pid_tuner_main.py:198\u001b[1;36m\u001b[0m\n\u001b[1;33m    logger.error(f\"Erreur de clé manquante dans la configuration ou les données: {ke_e}. Assurez-vous que toutes les sections et clés nécessaires (ex: [ModelFeatures] depuis pid_model_builder.ini) sont\u001b[0m\n\u001b[1;37m                 ^\u001b[0m\n\u001b[1;31mSyntaxError\u001b[0m\u001b[1;31m:\u001b[0m unterminated string literal (detected at line 198)\n"
     ]
    }
   ],
   "source": [
    "%run pid_tuner_main.py"
   ]
  },
  {
   "cell_type": "code",
   "execution_count": null,
   "id": "1d9f2077-e954-487d-8df3-bb07e3ffe661",
   "metadata": {},
   "outputs": [],
   "source": []
  }
 ],
 "metadata": {
  "kernelspec": {
   "display_name": "Python 3 (ipykernel)",
   "language": "python",
   "name": "python3"
  },
  "language_info": {
   "codemirror_mode": {
    "name": "ipython",
    "version": 3
   },
   "file_extension": ".py",
   "mimetype": "text/x-python",
   "name": "python",
   "nbconvert_exporter": "python",
   "pygments_lexer": "ipython3",
   "version": "3.10.0"
  }
 },
 "nbformat": 4,
 "nbformat_minor": 5
}
