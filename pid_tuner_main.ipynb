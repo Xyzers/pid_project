{
 "cells": [
  {
   "cell_type": "code",
   "execution_count": 22,
   "id": "14a52591-d0df-47cc-bbd5-40840030f3cf",
   "metadata": {},
   "outputs": [
    {
     "name": "stdout",
     "output_type": "stream",
     "text": [
      "The autoreload extension is already loaded. To reload it, use:\n",
      "  %reload_ext autoreload\n"
     ]
    }
   ],
   "source": [
    "%load_ext autoreload"
   ]
  },
  {
   "cell_type": "code",
   "execution_count": 23,
   "id": "e208ebab-331e-4aaf-bd61-01fe516ca731",
   "metadata": {},
   "outputs": [],
   "source": [
    "%autoreload 2"
   ]
  },
  {
   "cell_type": "code",
   "execution_count": 24,
   "id": "2c3f5c6c-f41e-41f7-b905-5cebf461ac07",
   "metadata": {},
   "outputs": [
    {
     "name": "stdout",
     "output_type": "stream",
     "text": [
      "2025-06-02 19:58:07,313 - INFO - [config_loader] - Aucun 'log_file_base_name' valide spécifié dans [Output] du fichier .ini. Utilisation du nom de base par défaut 'pid_tuner_simulation' pour le log.\n",
      "2025-06-02 19:58:07,315 - INFO - [config_loader] - Journalisation configurée. Logs également sauvegardés dans : C:\\Jupyter\\pid_project\\pid_tuner_simulation.txt\n",
      "2025-06-02 19:58:07,317 - INFO - [config_loader] - Configuration chargée depuis 'C:\\Jupyter\\pid_project\\pid_tuner_simulation.ini'.\n",
      "INFO - [pid_tuner_main] - Configuration 'pid_tuner_simulation.ini' chargée et logging actif.\n",
      "CRITICAL - [pid_tuner_main] - Clé 'scalers_file' manquante dans la section [MODEL_PATHS] du fichier 'pid_tuner_simulation.ini'.\n"
     ]
    },
    {
     "name": "stderr",
     "output_type": "stream",
     "text": [
      "DEBUG_GLOBAL: Le fichier pid_tuner_main.py est en cours d'interprétation.\n",
      "DEBUG_GLOBAL: Version Python: 3.10.0 (tags/v3.10.0:b494f59, Oct  4 2021, 19:00:18) [MSC v.1929 64 bit (AMD64)]\n",
      "DEBUG_GLOBAL: Exécutable Python: C:\\Users\\EDVA10053293\\AppData\\Local\\Programs\\Python\\Python310\\python.exe\n",
      "DEBUG_GLOBAL: Répertoire courant (CWD): C:\\Jupyter\\pid_project\n",
      "DEBUG_GLOBAL: Dossier 'src' trouvé: C:\\Jupyter\\pid_project\\src\n",
      "DEBUG_IMPORT: Tentative d'import de pandas...\n",
      "DEBUG_IMPORT: pandas importé.\n",
      "DEBUG_IMPORT: Tentative d'import de numpy...\n",
      "DEBUG_IMPORT: numpy importé.\n",
      "DEBUG_IMPORT: Tentative d'import de matplotlib.pyplot...\n",
      "DEBUG_IMPORT: matplotlib.pyplot importé.\n",
      "DEBUG_IMPORT: Tentative d'import de src.config_loader...\n",
      "DEBUG_IMPORT: src.config_loader importé.\n",
      "DEBUG_IMPORT: Tentative d'import de src.db_utils...\n",
      "DEBUG_IMPORT: src.db_utils importé.\n",
      "DEBUG_IMPORT: Tentative d'import de src.data_processing...\n",
      "DEBUG_IMPORT: src.data_processing importé.\n",
      "DEBUG_IMPORT: Tentative d'import de src.modeling...\n",
      "DEBUG_IMPORT: src.modeling importé.\n",
      "DEBUG_IMPORT: Tentative d'import de src.pid_simulation.pid_single_simulation...\n",
      "DEBUG_IMPORT: src.pid_simulation.pid_single_simulation importé.\n",
      "DEBUG_GLOBAL: Le script est exécuté en tant que __main__.\n",
      "DEBUG_GLOBAL: Appel de run_pid_tuning_simulation().\n",
      "DEBUG_MAIN: Entrée dans run_pid_tuning_simulation()\n",
      "DEBUG_MAIN: Fichier de configuration cible: pid_tuner_simulation.ini\n",
      "DEBUG_MAIN: Fichier config 'C:\\Jupyter\\pid_project\\pid_tuner_simulation.ini' trouvé.\n",
      "DEBUG_MAIN: Configuration et logging initialisés par load_config_and_setup_logging.\n",
      "DEBUG_MAIN: Vérification des sections de configuration requises...\n",
      "DEBUG_MAIN: Fin de run_pid_tuning_simulation() (bloc finally).\n",
      "DEBUG_GLOBAL: Script terminé par SystemExit code/message: 'Arrêt: Clé 'scalers_file' manquante dans [MODEL_PATHS].'.\n",
      "DEBUG_GLOBAL: Fin du bloc if __name__ == '__main__'.\n"
     ]
    },
    {
     "ename": "SystemExit",
     "evalue": "Arrêt: Clé 'scalers_file' manquante dans [MODEL_PATHS].",
     "output_type": "error",
     "traceback": [
      "An exception has occurred, use %tb to see the full traceback.\n",
      "\u001b[1;31mSystemExit\u001b[0m\u001b[1;31m:\u001b[0m Arrêt: Clé 'scalers_file' manquante dans [MODEL_PATHS].\n"
     ]
    }
   ],
   "source": [
    "%run pid_tuner_main.py"
   ]
  },
  {
   "cell_type": "code",
   "execution_count": null,
   "id": "bef394b2-b820-445f-b966-d6de5288f63e",
   "metadata": {},
   "outputs": [],
   "source": []
  },
  {
   "cell_type": "code",
   "execution_count": null,
   "id": "9d83e638-84cb-494f-aef4-55522e412cd5",
   "metadata": {},
   "outputs": [],
   "source": []
  }
 ],
 "metadata": {
  "kernelspec": {
   "display_name": "Python 3 (ipykernel)",
   "language": "python",
   "name": "python3"
  },
  "language_info": {
   "codemirror_mode": {
    "name": "ipython",
    "version": 3
   },
   "file_extension": ".py",
   "mimetype": "text/x-python",
   "name": "python",
   "nbconvert_exporter": "python",
   "pygments_lexer": "ipython3",
   "version": "3.10.0"
  }
 },
 "nbformat": 4,
 "nbformat_minor": 5
}
