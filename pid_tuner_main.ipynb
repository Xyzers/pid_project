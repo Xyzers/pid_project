{
 "cells": [
  {
   "cell_type": "code",
   "execution_count": 4,
   "id": "14a52591-d0df-47cc-bbd5-40840030f3cf",
   "metadata": {},
   "outputs": [
    {
     "name": "stdout",
     "output_type": "stream",
     "text": [
      "The autoreload extension is already loaded. To reload it, use:\n",
      "  %reload_ext autoreload\n"
     ]
    }
   ],
   "source": [
    "%load_ext autoreload"
   ]
  },
  {
   "cell_type": "code",
   "execution_count": 5,
   "id": "e208ebab-331e-4aaf-bd61-01fe516ca731",
   "metadata": {},
   "outputs": [],
   "source": [
    "%autoreload 2"
   ]
  },
  {
   "cell_type": "code",
   "execution_count": 6,
   "id": "2c3f5c6c-f41e-41f7-b905-5cebf461ac07",
   "metadata": {},
   "outputs": [],
   "source": [
    "%run pid_tuner_main.py"
   ]
  },
  {
   "cell_type": "code",
   "execution_count": null,
   "id": "bef394b2-b820-445f-b966-d6de5288f63e",
   "metadata": {},
   "outputs": [],
   "source": []
  },
  {
   "cell_type": "code",
   "execution_count": null,
   "id": "9d83e638-84cb-494f-aef4-55522e412cd5",
   "metadata": {},
   "outputs": [],
   "source": []
  }
 ],
 "metadata": {
  "kernelspec": {
   "display_name": "Python 3 (ipykernel)",
   "language": "python",
   "name": "python3"
  },
  "language_info": {
   "codemirror_mode": {
    "name": "ipython",
    "version": 3
   },
   "file_extension": ".py",
   "mimetype": "text/x-python",
   "name": "python",
   "nbconvert_exporter": "python",
   "pygments_lexer": "ipython3",
   "version": "3.10.0"
  }
 },
 "nbformat": 4,
 "nbformat_minor": 5
}
